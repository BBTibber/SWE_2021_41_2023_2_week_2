{
  "nbformat": 4,
  "nbformat_minor": 0,
  "metadata": {
    "colab": {
      "provenance": [],
      "gpuType": "T4"
    },
    "kernelspec": {
      "name": "python3",
      "display_name": "Python 3"
    },
    "language_info": {
      "name": "python"
    },
    "accelerator": "GPU"
  },
  "cells": [
    {
      "cell_type": "code",
      "execution_count": 49,
      "metadata": {
        "colab": {
          "base_uri": "https://localhost:8080/"
        },
        "id": "o0ERE1K2ynp9",
        "outputId": "7bad8ef7-0b8e-4eda-f8f9-b8258f372d2b"
      },
      "outputs": [
        {
          "output_type": "stream",
          "name": "stdout",
          "text": [
            "n =\n",
            "19\n",
            "True\n"
          ]
        }
      ],
      "source": [
        "\n",
        "checklist =[0]\n",
        "sum = 0\n",
        "\n",
        "\n",
        "def isHappy(a):\n",
        "       while a!=1:\n",
        "                 a=cal(a)\n",
        "                 if check(a)==1:\n",
        "                     print(\"False\")\n",
        "                     break\n",
        "                 else:\n",
        "                         checklist.append(a)\n",
        "       if a==1:\n",
        "          print(\"True\")\n",
        "\n",
        "def cal(b):\n",
        "       global sum\n",
        "       sum = 0\n",
        "       while b != 0:\n",
        "                 sum += (b%10)*(b%10)\n",
        "                 b=b//10\n",
        "       return sum\n",
        "\n",
        "def check(c):\n",
        "       for i in checklist:\n",
        "              if i==c:\n",
        "                  return 1\n",
        "       return 0\n",
        "\n",
        "\n",
        "\n",
        "\n",
        "print(\"n =\")\n",
        "x = int(input())\n",
        "\n",
        "isHappy(x)\n",
        "\n"
      ]
    }
  ]
}